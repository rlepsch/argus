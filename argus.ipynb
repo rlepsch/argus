{
  "nbformat": 4,
  "nbformat_minor": 0,
  "metadata": {
    "colab": {
      "name": "argus.ipynb",
      "provenance": [],
      "collapsed_sections": [],
      "include_colab_link": true
    },
    "kernelspec": {
      "name": "python3",
      "display_name": "Python 3"
    }
  },
  "cells": [
    {
      "cell_type": "markdown",
      "metadata": {
        "id": "view-in-github",
        "colab_type": "text"
      },
      "source": [
        "<a href=\"https://colab.research.google.com/github/rlepsch/argus/blob/main/argus.ipynb\" target=\"_parent\"><img src=\"https://colab.research.google.com/assets/colab-badge.svg\" alt=\"Open In Colab\"/></a>"
      ]
    },
    {
      "cell_type": "markdown",
      "metadata": {
        "id": "flekT6GFDN6m"
      },
      "source": [
        "# <span style=\"color:blue\">REINALDO LEPSCH NETO - TEST FOR ARGUS - 31/12/2021</span>\n"
      ]
    },
    {
      "cell_type": "markdown",
      "source": [
        "https://movile.blog/introducao-a-spark-usando-o-google-colab/\n",
        "\n",
        "https://ichi.pro/pt/observacoes-sobre-como-salvar-dados-com-spark-3-0-148135666658161\n"
      ],
      "metadata": {
        "id": "6SF1wXYkQ4pR"
      }
    },
    {
      "cell_type": "markdown",
      "metadata": {
        "id": "CCCNC64AzBG0"
      },
      "source": [
        "# 1 Downloading files\n",
        "\n"
      ]
    },
    {
      "cell_type": "code",
      "metadata": {
        "id": "3e0Eao1K0EYG"
      },
      "source": [
        "#installing module wget\n",
        "%%capture\n",
        "!pip install -q wget\n",
        "#creating folder to save output\n",
        "!mkdir data"
      ],
      "execution_count": 1,
      "outputs": []
    },
    {
      "cell_type": "code",
      "metadata": {
        "id": "46QzTpLJwfkW",
        "cellView": "both",
        "colab": {
          "base_uri": "https://localhost:8080/",
          "height": 35
        },
        "outputId": "a435bc97-03f2-4bf8-d757-05822f42426f"
      },
      "source": [
        "#downloading data from github (originally sent as email attachments)\n",
        "import wget\n",
        "\n",
        "url = \"https://raw.githubusercontent.com/rlepsch/argus/main/repo1.csv\"\n",
        "wget.download(url, \"data/repo1.csv\")\n",
        "\n",
        "url = \"https://raw.githubusercontent.com/rlepsch/argus/main/repo2.csv\"\n",
        "wget.download(url, \"data/repo2.csv\")\n",
        "\n",
        "url = \"https://raw.githubusercontent.com/rlepsch/argus/main/vhf_code.csv\"\n",
        "wget.download(url, \"data/vhf_code.csv\")"
      ],
      "execution_count": 9,
      "outputs": [
        {
          "output_type": "execute_result",
          "data": {
            "application/vnd.google.colaboratory.intrinsic+json": {
              "type": "string"
            },
            "text/plain": [
              "'data/vhf_code (1).csv'"
            ]
          },
          "metadata": {},
          "execution_count": 9
        }
      ]
    },
    {
      "cell_type": "markdown",
      "metadata": {
        "id": "sO16-7-jOioq"
      },
      "source": [
        "# 2 Apache Spark Cluster"
      ]
    },
    {
      "cell_type": "code",
      "metadata": {
        "id": "NXls3bfoglKW"
      },
      "source": [
        "#installing Java Runtime Environment (JRE) version 8\n",
        "%%capture\n",
        "!apt-get remove openjdk*\n",
        "!apt-get update --fix-missing\n",
        "!apt-get install openjdk-8-jdk-headless -qq > /dev/null"
      ],
      "execution_count": 3,
      "outputs": []
    },
    {
      "cell_type": "code",
      "metadata": {
        "id": "8a_Yv59zg3gm"
      },
      "source": [
        "#downloading Apache Spark version 3.0.0\n",
        "%%capture\n",
        "!wget -q https://archive.apache.org/dist/spark/spark-3.0.0/spark-3.0.0-bin-hadoop2.7.tgz\n",
        "!tar xf spark-3.0.0-bin-hadoop2.7.tgz && rm spark-3.0.0-bin-hadoop2.7.tgz"
      ],
      "execution_count": 4,
      "outputs": []
    },
    {
      "cell_type": "code",
      "metadata": {
        "id": "iZpR7NwOh2EB"
      },
      "source": [
        "import os\n",
        "#configuring the environment variable JAVA_HOME\n",
        "os.environ[\"JAVA_HOME\"] = \"/usr/lib/jvm/java-8-openjdk-amd64\"\n",
        "#configurando a variável de ambiente SPARK_HOME\n",
        "os.environ[\"SPARK_HOME\"] = \"/content/spark-3.0.0-bin-hadoop2.7\""
      ],
      "execution_count": 5,
      "outputs": []
    },
    {
      "cell_type": "code",
      "metadata": {
        "id": "5oSYOwKljPf5"
      },
      "source": [
        "%%capture\n",
        "#installing package findspark\n",
        "!pip install -q findspark==1.4.2\n",
        "#instalando o pacote pyspark\n",
        "!pip install -q pyspark==3.0.0"
      ],
      "execution_count": 6,
      "outputs": []
    },
    {
      "cell_type": "code",
      "metadata": {
        "id": "-zm1pBTEmjp4"
      },
      "source": [
        "#importando o módulo findspark\n",
        "import findspark\n",
        "#carregando a variávels SPARK_HOME na variável dinâmica PYTHONPATH\n",
        "findspark.init()"
      ],
      "execution_count": 7,
      "outputs": []
    },
    {
      "cell_type": "code",
      "metadata": {
        "id": "9TxljJ_cwBCy"
      },
      "source": [
        "from pyspark.sql import SparkSession\n",
        "\n",
        "spark = SparkSession.builder.appName(\"pyspark-notebook\").master(\"local[*]\").getOrCreate()"
      ],
      "execution_count": 8,
      "outputs": []
    },
    {
      "cell_type": "markdown",
      "metadata": {
        "id": "5qL9SiR_pQE2"
      },
      "source": [
        "# 3 Data preparation\n"
      ]
    },
    {
      "cell_type": "code",
      "metadata": {
        "cellView": "both",
        "id": "FNR-3dV6oYk4",
        "colab": {
          "base_uri": "https://localhost:8080/"
        },
        "outputId": "94b895d2-60aa-4adf-eaba-369e5ca97649"
      },
      "source": [
        "#creating and showing dataframe for repo1\n",
        "\n",
        "repo1 = spark.read.csv(path=\"data/repo1.csv\", header=True, sep=\",\")\n",
        "repo1.show(5)\n"
      ],
      "execution_count": 13,
      "outputs": [
        {
          "output_type": "stream",
          "name": "stdout",
          "text": [
            "+-----------------+-----------+--------------------+------+---------------------+-------------------+--------------+------------+\n",
            "|vhf_repository_id|vhf_code_id|publication_datetime| value|applies_from_datetime|applies_to_datetime|forward_period|forward_year|\n",
            "+-----------------+-----------+--------------------+------+---------------------+-------------------+--------------+------------+\n",
            "|        184950377|      45747|    15/12/2021 13:23|     2|     15/12/2021 13:22|   15/12/2021 13:23|             2|        2022|\n",
            "|        184950374|      45743|    15/12/2021 13:23|2.0775|     15/12/2021 13:22|   15/12/2021 13:23|             2|        2022|\n",
            "|        184950371|      45745|    15/12/2021 13:23|2.0775|     15/12/2021 13:22|   15/12/2021 13:23|             2|        2022|\n",
            "|        184950368|      45744|    15/12/2021 13:23|2.0776|     15/12/2021 13:22|   15/12/2021 13:23|             2|        2022|\n",
            "|        184950365|      45746|    15/12/2021 13:23|2.0776|     15/12/2021 13:22|   15/12/2021 13:23|             2|        2022|\n",
            "+-----------------+-----------+--------------------+------+---------------------+-------------------+--------------+------------+\n",
            "only showing top 5 rows\n",
            "\n"
          ]
        }
      ]
    },
    {
      "cell_type": "code",
      "metadata": {
        "id": "LPCF-SyBtuPW",
        "colab": {
          "base_uri": "https://localhost:8080/"
        },
        "outputId": "8853d62e-fff2-4be3-a7a6-8d14a440003f"
      },
      "source": [
        "#creating and showing dataframe for repo2\n",
        "\n",
        "repo2 = spark.read.csv(path=\"data/repo2.csv\", header=True, sep=\",\")\n",
        "repo2.show(5)\n"
      ],
      "execution_count": 14,
      "outputs": [
        {
          "output_type": "stream",
          "name": "stdout",
          "text": [
            "+-----------------+-----------+--------------------+-----+---------------------+-------------------+--------------+------------+\n",
            "|vhf_repository_id|vhf_code_id|publication_datetime|value|applies_from_datetime|applies_to_datetime|forward_period|forward_year|\n",
            "+-----------------+-----------+--------------------+-----+---------------------+-------------------+--------------+------------+\n",
            "|        184931068|      45691| 15/12/2021 12:38:00|72.65|  15/12/2021 12:37:00|15/12/2021 12:38:00|             4|        2022|\n",
            "|        184931061|      45687| 15/12/2021 12:38:00|12.00|  15/12/2021 12:37:00|15/12/2021 12:38:00|             3|        2022|\n",
            "|        184931059|      45683| 15/12/2021 12:38:00|72.93|  15/12/2021 12:37:00|15/12/2021 12:38:00|             3|        2022|\n",
            "|        184931057|      45685| 15/12/2021 12:38:00|72.91|  15/12/2021 12:37:00|15/12/2021 12:38:00|             3|        2022|\n",
            "|        184931055|      45684| 15/12/2021 12:38:00|72.93|  15/12/2021 12:37:00|15/12/2021 12:38:00|             3|        2022|\n",
            "+-----------------+-----------+--------------------+-----+---------------------+-------------------+--------------+------------+\n",
            "only showing top 5 rows\n",
            "\n"
          ]
        }
      ]
    },
    {
      "cell_type": "code",
      "metadata": {
        "id": "w3p9dLUKts73",
        "colab": {
          "base_uri": "https://localhost:8080/"
        },
        "outputId": "9eaebd11-48bb-40ea-90b7-b4e9e89e1981"
      },
      "source": [
        "#creating and showing dataframe for vhf_code\n",
        "\n",
        "vhf_code = spark.read.csv(path=\"data/vhf_code.csv\", header=True, sep=\",\")\n",
        "vhf_code.show(5)\n"
      ],
      "execution_count": 15,
      "outputs": [
        {
          "output_type": "stream",
          "name": "stdout",
          "text": [
            "+--------------------+--------------------+--------------------+------------------+-----------+\n",
            "|         description|external_description|   description_short|external_query_str|vhf_code_id|\n",
            "+--------------------+--------------------+--------------------+------------------+-----------+\n",
            "|Brent month 1 1-m...|     Crude Oil Brent|Brent M1 1-min close|             CLOSE|      45678|\n",
            "|Brent month 1 1-m...|     Crude Oil Brent| Brent M1 1-min high|              HIGH|      45679|\n",
            "|Brent month 1 1-m...|     Crude Oil Brent|  Brent M1 1-min low|               LOW|      45680|\n",
            "|Brent month 1 1-m...|     Crude Oil Brent| Brent M1 1-min open|              OPEN|      45681|\n",
            "|Brent month 1 1-m...|     Crude Oil Brent|Brent M1 1-min vo...|            VOLUME|      45682|\n",
            "+--------------------+--------------------+--------------------+------------------+-----------+\n",
            "only showing top 5 rows\n",
            "\n"
          ]
        }
      ]
    },
    {
      "cell_type": "code",
      "metadata": {
        "id": "nB4dFUqHoiaW"
      },
      "source": [
        "#creating the temp views\n",
        "repo1.createOrReplaceTempView(\"repo1\")\n",
        "repo2.createOrReplaceTempView(\"repo2\")\n",
        "vhf_code.createOrReplaceTempView(\"vhf_code\")"
      ],
      "execution_count": 16,
      "outputs": []
    },
    {
      "cell_type": "code",
      "source": [
        "vhf_code"
      ],
      "metadata": {
        "colab": {
          "base_uri": "https://localhost:8080/"
        },
        "id": "k7cQ9bYbMosj",
        "outputId": "8bd37545-bb2e-43e8-b7af-4d537b82aad7"
      },
      "execution_count": null,
      "outputs": [
        {
          "output_type": "execute_result",
          "data": {
            "text/plain": [
              "DataFrame[description: string, external_description: string, description_short: string, external_query_str: string, vhf_code_id: string]"
            ]
          },
          "metadata": {},
          "execution_count": 14
        }
      ]
    },
    {
      "cell_type": "markdown",
      "metadata": {
        "id": "Ss0pmgplPAL3"
      },
      "source": [
        "# 4 Querying the data"
      ]
    },
    {
      "cell_type": "code",
      "metadata": {
        "id": "DGMSoyQRoqnz",
        "colab": {
          "base_uri": "https://localhost:8080/"
        },
        "outputId": "22423da8-5bf8-4691-8815-a218674ac301"
      },
      "source": [
        "query = \"\"\"\n",
        "SELECT vhf_repository_id\n",
        "FROM repo1 \n",
        "where value > 2\n",
        "\"\"\"\n",
        "\n",
        "spark.sql(query).show()"
      ],
      "execution_count": 17,
      "outputs": [
        {
          "output_type": "stream",
          "name": "stdout",
          "text": [
            "+-----------------+\n",
            "|vhf_repository_id|\n",
            "+-----------------+\n",
            "|        184950361|\n",
            "|        184950325|\n",
            "|        184950320|\n",
            "|        184950315|\n",
            "|        184950310|\n",
            "|        184950305|\n",
            "|        184950299|\n",
            "|        184950293|\n",
            "|        184950287|\n",
            "|        184950281|\n",
            "|        184950275|\n",
            "|        184950268|\n",
            "|        184950262|\n",
            "|        184950256|\n",
            "|        184950250|\n",
            "|        184950244|\n",
            "|        184950376|\n",
            "|        184950360|\n",
            "|        184950324|\n",
            "|        184950319|\n",
            "+-----------------+\n",
            "only showing top 20 rows\n",
            "\n"
          ]
        }
      ]
    },
    {
      "cell_type": "markdown",
      "source": [
        "#5 Saving the data"
      ],
      "metadata": {
        "id": "sT-ZOnKNFEy0"
      }
    },
    {
      "cell_type": "code",
      "source": [
        "\n",
        "( \n",
        "  repo1.write\n",
        "  .mode('append') # or append\n",
        "  #.partitionBy(col_name) # this is optional\n",
        "  .bucketBy(5, 'forward_period') # n is number of buckets\n",
        "  .sortBy('forward_period')\n",
        "  #.format('parquet') # this is optional, parquet is default\n",
        "  .option('path','file:///Users/reinaldolepsch/Downloads')\n",
        "  .saveAsTable('tb_output')\n",
        ")"
      ],
      "metadata": {
        "id": "z74IpVAeI664"
      },
      "execution_count": 18,
      "outputs": []
    },
    {
      "cell_type": "code",
      "source": [
        "df = spark.table('tb_output')"
      ],
      "metadata": {
        "id": "KDmTR3dNPhZN"
      },
      "execution_count": 19,
      "outputs": []
    },
    {
      "cell_type": "code",
      "source": [
        "query = \"\"\"\n",
        "SELECT *\n",
        "FROM tb_output \n",
        "\"\"\"\n",
        "\n",
        "spark.sql(query).show()"
      ],
      "metadata": {
        "colab": {
          "base_uri": "https://localhost:8080/"
        },
        "id": "gkozdamhPqwo",
        "outputId": "5fb9aa49-ffb8-4108-82e9-fbb31f424ca5"
      },
      "execution_count": 20,
      "outputs": [
        {
          "output_type": "stream",
          "name": "stdout",
          "text": [
            "+-----------------+-----------+--------------------+-----+---------------------+-------------------+--------------+------------+\n",
            "|vhf_repository_id|vhf_code_id|publication_datetime|value|applies_from_datetime|applies_to_datetime|forward_period|forward_year|\n",
            "+-----------------+-----------+--------------------+-----+---------------------+-------------------+--------------+------------+\n",
            "|        184950144|      45692|    15/12/2021 13:22|   38|     15/12/2021 13:21|   15/12/2021 13:22|             4|        2022|\n",
            "|        184950138|      45688|    15/12/2021 13:22|72.45|     15/12/2021 13:21|   15/12/2021 13:22|             4|        2022|\n",
            "|        184950132|      45690|    15/12/2021 13:22|72.44|     15/12/2021 13:21|   15/12/2021 13:22|             4|        2022|\n",
            "|        184950126|      45689|    15/12/2021 13:22|72.45|     15/12/2021 13:21|   15/12/2021 13:22|             4|        2022|\n",
            "|        184950120|      45691|    15/12/2021 13:22|72.44|     15/12/2021 13:21|   15/12/2021 13:22|             4|        2022|\n",
            "|        184950143|      45692|    15/12/2021 13:21|   91|     15/12/2021 13:20|   15/12/2021 13:21|             4|        2022|\n",
            "|        184950137|      45688|    15/12/2021 13:21|72.44|     15/12/2021 13:20|   15/12/2021 13:21|             4|        2022|\n",
            "|        184950131|      45690|    15/12/2021 13:21|72.41|     15/12/2021 13:20|   15/12/2021 13:21|             4|        2022|\n",
            "|        184950125|      45689|    15/12/2021 13:21|72.44|     15/12/2021 13:20|   15/12/2021 13:21|             4|        2022|\n",
            "|        184950119|      45691|    15/12/2021 13:21|72.44|     15/12/2021 13:20|   15/12/2021 13:21|             4|        2022|\n",
            "|        184950142|      45692|    15/12/2021 13:20|   11|     15/12/2021 13:19|   15/12/2021 13:20|             4|        2022|\n",
            "|        184950136|      45688|    15/12/2021 13:20|72.45|     15/12/2021 13:19|   15/12/2021 13:20|             4|        2022|\n",
            "|        184950130|      45690|    15/12/2021 13:20|72.44|     15/12/2021 13:19|   15/12/2021 13:20|             4|        2022|\n",
            "|        184950124|      45689|    15/12/2021 13:20|72.47|     15/12/2021 13:19|   15/12/2021 13:20|             4|        2022|\n",
            "|        184950118|      45691|    15/12/2021 13:20|72.46|     15/12/2021 13:19|   15/12/2021 13:20|             4|        2022|\n",
            "|        184950141|      45692|    15/12/2021 13:19|    9|     15/12/2021 13:18|   15/12/2021 13:19|             4|        2022|\n",
            "|        184950135|      45688|    15/12/2021 13:19|72.47|     15/12/2021 13:18|   15/12/2021 13:19|             4|        2022|\n",
            "|        184950129|      45690|    15/12/2021 13:19|72.46|     15/12/2021 13:18|   15/12/2021 13:19|             4|        2022|\n",
            "|        184950123|      45689|    15/12/2021 13:19|72.47|     15/12/2021 13:18|   15/12/2021 13:19|             4|        2022|\n",
            "|        184950117|      45691|    15/12/2021 13:19|72.46|     15/12/2021 13:18|   15/12/2021 13:19|             4|        2022|\n",
            "+-----------------+-----------+--------------------+-----+---------------------+-------------------+--------------+------------+\n",
            "only showing top 20 rows\n",
            "\n"
          ]
        }
      ]
    },
    {
      "cell_type": "code",
      "source": [
        ""
      ],
      "metadata": {
        "id": "nVBcI262Ep21"
      },
      "execution_count": null,
      "outputs": []
    },
    {
      "cell_type": "markdown",
      "source": [
        "# CELLS FOR THE TEST"
      ],
      "metadata": {
        "id": "BwDsgI16EwvU"
      }
    },
    {
      "cell_type": "code",
      "source": [
        ""
      ],
      "metadata": {
        "id": "omxg7JNvErig"
      },
      "execution_count": null,
      "outputs": []
    },
    {
      "cell_type": "code",
      "source": [
        ""
      ],
      "metadata": {
        "id": "aHvkgPFHEr_V"
      },
      "execution_count": null,
      "outputs": []
    },
    {
      "cell_type": "code",
      "source": [
        ""
      ],
      "metadata": {
        "id": "XigvfRJbEseD"
      },
      "execution_count": null,
      "outputs": []
    },
    {
      "cell_type": "code",
      "source": [
        ""
      ],
      "metadata": {
        "id": "b6iX2nZrEs8R"
      },
      "execution_count": null,
      "outputs": []
    },
    {
      "cell_type": "markdown",
      "metadata": {
        "id": "h1kRDhciLQnj"
      },
      "source": [
        "## 5.3 Operação Pivot\n",
        "\n",
        "**Definição:** Reorienta a visão multidimensional dos dados, oferecendo diferentes perspectivas dos mesmos dados."
      ]
    },
    {
      "cell_type": "markdown",
      "metadata": {
        "id": "DPBaswdrLWv6"
      },
      "source": [
        "**Exemplo de consulta pivot:** Qual o valor gasto em salários por nível de cargo, considerando cada ano?"
      ]
    },
    {
      "cell_type": "code",
      "metadata": {
        "id": "CP9gstSQ9XUu",
        "colab": {
          "base_uri": "https://localhost:8080/"
        },
        "outputId": "945d88e8-ab51-4f6f-ecbe-7289d4a1f020",
        "collapsed": true
      },
      "source": [
        "# utilizando a cláusula WHERE com subselects\n",
        "query = \"\"\"\n",
        "SELECT anoPag AS `Ano`, ROUND(salario,2) AS `Total Gasto com Salários`, ROUND(receita,2) AS `Total de Receitas Recebidas`\n",
        "FROM ( SELECT dataAno, SUM(salario) \n",
        "       FROM pagamento JOIN data on data.dataPK = pagamento.dataPK\n",
        "       GROUP BY dataAno\n",
        "      ) AS pag(anoPag, salario), \n",
        "     ( SELECT dataAno, SUM(receita)\n",
        "       FROM negociacao JOIN data ON data.dataPK = negociacao.dataPK\n",
        "       GROUP BY dataAno\n",
        "      ) AS neg(anoNeg, receita) \n",
        "WHERE anoPag = anoNeg \n",
        "ORDER BY anoPag\n",
        "\"\"\"\n",
        "\n",
        "spark.sql(query).show()"
      ],
      "execution_count": null,
      "outputs": [
        {
          "output_type": "stream",
          "name": "stdout",
          "text": [
            "+----+------------------------+---------------------------+\n",
            "| Ano|Total Gasto com Salários|Total de Receitas Recebidas|\n",
            "+----+------------------------+---------------------------+\n",
            "|2016|              4442617.08|                 4614246.95|\n",
            "|2017|               9775279.8|                 7200423.35|\n",
            "|2018|            1.49355264E7|              1.159353965E7|\n",
            "|2019|           1.856766636E7|               3.53533183E7|\n",
            "|2020|           1.856766636E7|              3.022217595E7|\n",
            "+----+------------------------+---------------------------+\n",
            "\n"
          ]
        }
      ]
    }
  ]
}